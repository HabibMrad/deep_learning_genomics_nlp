{
 "cells": [
  {
   "cell_type": "code",
   "execution_count": 47,
   "metadata": {
    "collapsed": true
   },
   "outputs": [],
   "source": [
    "import itertools\n",
    "import numpy as np\n",
    "import pickle\n",
    "import time\n",
    "import matplotlib.pyplot as plt\n",
    "from sklearn import linear_model\n",
    "from sklearn.metrics import f1_score\n",
    "import multiprocessing as mp\n",
    "import os"
   ]
  },
  {
   "cell_type": "code",
   "execution_count": 48,
   "metadata": {
    "collapsed": false
   },
   "outputs": [],
   "source": [
    "# Test different feature vectors for each sequence\n",
    "d = {'A':0,'G':1,'C':2,'T':3}\n",
    "\n",
    "# Construct k-mer dictionary\n",
    "kmer_to_ind = {}\n",
    "ind_to_kmer = {}\n",
    "k_ind = 0\n",
    "for k in range(1,6):\n",
    "    for kmer in [''.join(i) for i in itertools.product('ACGT', repeat = k)]:\n",
    "        kmer_to_ind[kmer] = k_ind\n",
    "        ind_to_kmer[k_ind] = kmer\n",
    "        k_ind += 1\n",
    "\n",
    "# Feature mapping 1: char to int\n",
    "def seq_to_int(s):\n",
    "    return map(lambda x: d[x], s)\n",
    "\n",
    "# Feature mapping 2: k-mer counting for k = 1, 2, 3, 4, 5\n",
    "def kmer_count(s):\n",
    "    v = np.zeros(len(kmer_to_ind))\n",
    "    for k in range(1,6):\n",
    "        for kmer in [s[i:i+k] for i in range(len(s)-k+1)]:\n",
    "            v[kmer_to_ind[kmer]] += 1\n",
    "    return v"
   ]
  },
  {
   "cell_type": "code",
   "execution_count": 49,
   "metadata": {
    "collapsed": true
   },
   "outputs": [
    {
     "name": "stdout",
     "output_type": "stream",
     "text": [
      "3.40938568115e-05  s\n",
      "2.02744293213  s\n",
      "3.98844099045  s\n",
      "7.05972313881  s\n",
      "9.04579591751  s\n",
      "10.9841039181  s\n",
      "13.5748140812  s\n",
      "15.6534209251  s\n",
      "3.09944152832e-05  s\n",
      "2.0884039402  s\n",
      "4.07371807098  s\n",
      "5.92270207405  s\n",
      "7.73347902298  s\n",
      "9.74007296562  s\n",
      "11.786616087  s\n",
      "13.7249729633  s\n",
      "15.4917149544  s\n",
      "17.4514601231  s\n",
      "19.6222150326  s\n",
      "21.5734610558  s\n",
      "23.5917510986  s\n",
      "25.5422530174  s\n",
      "27.5585720539  s\n",
      "29.5418181419  s\n",
      "31.5757291317  s\n",
      "33.6174809933  s\n",
      "35.7089309692  s\n",
      "37.7776880264  s\n",
      "39.8139750957  s\n",
      "41.8102049828  s\n",
      "43.8534440994  s\n",
      "46.4420390129  s\n",
      "48.4776279926  s\n",
      "50.412582159  s\n",
      "52.3520309925  s\n",
      "54.4511890411  s\n",
      "56.4619181156  s\n",
      "58.43207407  s\n",
      "60.4703130722  s\n",
      "62.5375680923  s\n",
      "64.562237978  s\n",
      "66.6386730671  s\n",
      "68.7366299629  s\n",
      "70.8200490475  s\n",
      "72.7792000771  s\n",
      "74.8994369507  s\n",
      "76.9358739853  s\n",
      "79.0296490192  s\n",
      "80.9351539612  s\n",
      "82.9504590034  s\n",
      "84.9907820225  s\n",
      "88.0465779305  s\n",
      "90.0003321171  s\n",
      "92.0734860897  s\n",
      "94.4482440948  s\n",
      "96.9506411552  s\n",
      "98.9278659821  s\n",
      "100.818119049  s\n",
      "102.750856161  s\n",
      "104.790775061  s\n",
      "106.859329939  s\n",
      "108.870723963  s\n",
      "110.763366938  s\n",
      "112.931221962  s\n",
      "114.937222958  s\n",
      "116.799417973  s\n",
      "118.525763988  s\n",
      "120.545266151  s\n",
      "122.507279158  s\n",
      "124.422394991  s\n",
      "126.348654985  s\n",
      "128.791975021  s\n",
      "130.994493008  s\n",
      "133.030236006  s\n",
      "134.989477158  s\n",
      "137.044557095  s\n",
      "138.936037064  s\n",
      "140.667140961  s\n",
      "142.640805006  s\n",
      "144.839166164  s\n",
      "146.896384954  s\n",
      "148.863559961  s\n",
      "150.888539076  s\n",
      "152.965250969  s\n",
      "155.688760996  s\n",
      "157.739977121  s\n",
      "159.805694103  s\n",
      "162.010175943  s\n"
     ]
    }
   ],
   "source": [
    "def load_features(feature_extractor,filename,num_steps=200):\n",
    "    # Read in sequence\n",
    "    f = open(filename)\n",
    "    X = []\n",
    "    start_time = time.time()\n",
    "    for i,line in enumerate(f):\n",
    "        if i % 1000 == 0:\n",
    "            print time.time()-start_time, ' s'\n",
    "        s = line.split()[0]\n",
    "        a = int(len(s)/2-num_steps/2)\n",
    "        b = int(len(s)/2+num_steps/2)\n",
    "        X.append(feature_extractor(s[a:b]))\n",
    "    return np.array(X)\n",
    "  \n",
    "fileprefix = '../jz-rnn-tensorflow/data/deepsea_multitask/deepsea'\n",
    "feature_extractor = kmer_count\n",
    "\n",
    "X_test = load_features(feature_extractor,fileprefix + '.data.test.txt')\n",
    "X_train = load_features(feature_extractor,fileprefix + '.data.train.txt')\n",
    "Y_test = np.loadtxt(fileprefix + '.labels.test.txt')\n",
    "Y_train = np.loadtxt(fileprefix + '.labels.train.txt')\n",
    "\n",
    "pickle.dump((X_test,X_train,Y_test,Y_train),file('data_200.pickle','wb'))\n",
    "# X_test,X_train,Y_test,Y_train = pickle.load(file('data.pickle','rb'))"
   ]
  },
  {
   "cell_type": "code",
   "execution_count": 7,
   "metadata": {
    "collapsed": false
   },
   "outputs": [],
   "source": [
    "# logistic regression model\n",
    "\n",
    "def logistic_reg(inputs):\n",
    "    X_test,X_train,Y_test,Y_train,i = inputs\n",
    "    logreg = linear_model.LogisticRegression(C=1e6)\n",
    "    logreg.fit(X_train, Y_train)\n",
    "    Yhat_train = logreg.predict(X_train)\n",
    "    Yhat_test = logreg.predict(X_test)\n",
    "    f1_train = f1_score(Y_train,Yhat_train)\n",
    "    f1_test = f1_score(Y_test,Yhat_test)\n",
    "    f = open('logistic_regression_results/'+str(i))\n",
    "    f.write('%.3f\\t%.3f\\n'%(f1_train,f1_test))\n",
    "    f.close()\n",
    "    return f1_train,f1_test"
   ]
  },
  {
   "cell_type": "code",
   "execution_count": null,
   "metadata": {
    "collapsed": false
   },
   "outputs": [],
   "source": [
    "num_tasks = np.shape(Y_train)[1]\n",
    "\n",
    "all_f1_train = []\n",
    "all_f1_test = []\n",
    "start_time = time.time()\n",
    "for i in range(num_tasks):\n",
    "    inputs = (X_test,X_train,Y_test[:,i],Y_train[:,i])\n",
    "    f1_train,f1_test = logistic_reg(inputs)\n",
    "    all_f1_train.append(f1_train)\n",
    "    all_f1_test.append(f1_test)\n",
    "    f = open('logistic_regression_results','a')\n",
    "    f.write('Task ' + str(i) + ':\\tf1 train = %.3f\\tf1 test = %.3f\\n'%(f1_train,f1_test))\n",
    "    f.close()\n",
    "    print 'Task ' + str(i) + ':\\tf1 train = %.3f\\tf1 test = %.3f'%(f1_train,f1_test) \n",
    "    print time.time()-start_time"
   ]
  },
  {
   "cell_type": "code",
   "execution_count": null,
   "metadata": {
    "collapsed": true
   },
   "outputs": [],
   "source": [
    "num_tasks = np.shape(Y_train)[1]\n",
    "all_inputs = [(X_test,X_train,Y_test[:,i],Y_train[:,i],i) for i in range(num_tasks)]\n",
    "pool=mp.Pool(processes=40)\n",
    "pool.map(logistic_reg,all_inputs)"
   ]
  },
  {
   "cell_type": "markdown",
   "metadata": {},
   "source": [
    "## Logistic Regression Output Analysis"
   ]
  },
  {
   "cell_type": "code",
   "execution_count": 357,
   "metadata": {
    "collapsed": false
   },
   "outputs": [],
   "source": [
    "# Read in logistic regression results as a K-by-5 matrix where K = num tasks\n",
    "# 5 entries are:\n",
    "#   1. task ID\n",
    "#   2. number of non-zero training examples\n",
    "#   3. number of non-zero testing examples\n",
    "#   4. F1 score for training (-1 if no non-zero labels)\n",
    "#   5. F1 score for testing (-1 if no non-zero labels)\n",
    "\n",
    "def logistic_regression_analysis_matrix(dirname):\n",
    "    X = np.zeros([919,5])\n",
    "    for i in range(919):\n",
    "        f = open(dirname+str(i))\n",
    "        for line in f:\n",
    "            z = line.split()\n",
    "        X[i,0] = i\n",
    "        X[i,1] = float(z[0])\n",
    "        X[i,2] = float(z[1])\n",
    "        if len(z) > 3:\n",
    "            X[i,3] = float(z[2])\n",
    "            X[i,4] = float(z[3])\n",
    "        else:\n",
    "            X[i,3] = -1\n",
    "            X[i,4] = -1\n",
    "    return X\n",
    "\n",
    "def get_best_tasks(X):\n",
    "    # Sort tasks by F1 score (descending)\n",
    "    a = sorted([(val,i,X[i,1]/float(80000)) for i,val in enumerate(X[:,4])])\n",
    "    a.reverse()\n",
    "    # Grab tasks with best scores\n",
    "    good_inds = np.array([i[1] for i in a])\n",
    "    return a, good_inds\n",
    "\n",
    "X = logistic_regression_analysis_matrix('logistic_regression_100_results/')\n",
    "a, good_inds = get_best_tasks(X)"
   ]
  },
  {
   "cell_type": "code",
   "execution_count": 324,
   "metadata": {
    "collapsed": false
   },
   "outputs": [
    {
     "data": {
      "text/plain": [
       "<matplotlib.text.Text at 0x7fae33ed3510>"
      ]
     },
     "execution_count": 324,
     "metadata": {},
     "output_type": "execute_result"
    },
    {
     "data": {
      "image/png": "[encoded data removed]",
      "text/plain": [
       "<matplotlib.figure.Figure at 0x7fae34f32090>"
      ]
     },
     "metadata": {},
     "output_type": "display_data"
    },
    {
     "data": {
      "image/png": "[encoded data removed]",
      "text/plain": [
       "<matplotlib.figure.Figure at 0x7fae334f3b50>"
      ]
     },
     "metadata": {},
     "output_type": "display_data"
    },
    {
     "data": {
      "image/png": "[encoded data removed]",
      "text/plain": [
       "<matplotlib.figure.Figure at 0x7fae3445b710>"
      ]
     },
     "metadata": {},
     "output_type": "display_data"
    }
   ],
   "source": [
    "%matplotlib inline\n",
    "\n",
    "# Histograms of total # of 1's in labels\n",
    "plt.hist(X[:,1],bins=20)\n",
    "plt.title('histogram of # of non-zero training examples')\n",
    "plt.figure()\n",
    "plt.hist(X[:,2],bins=20)\n",
    "plt.title('histogram of # of non-zero testing examples')\n",
    "\n",
    "# Plot of F1 scores in sorted order\n",
    "plt.figure()\n",
    "plt.plot(np.sort(X[:,4]))\n",
    "plt.title('F1 scores on testing set (sorted)')"
   ]
  },
  {
   "cell_type": "markdown",
   "metadata": {},
   "source": [
    "## Neural Network Analysis"
   ]
  },
  {
   "cell_type": "code",
   "execution_count": 168,
   "metadata": {
    "collapsed": false
   },
   "outputs": [
    {
     "data": {
      "text/plain": [
       "0"
      ]
     },
     "execution_count": 168,
     "metadata": {},
     "output_type": "execute_result"
    }
   ],
   "source": [
    "# Copy over validation errors from training model on AWS\n",
    "import os\n",
    "key = '54.153.39.112'\n",
    "os.system('scp -i ../cs224d.pem ubuntu@'+key\n",
    "          +':deep_learning_genomics_nlp/jz-rnn-tensorflow/weights/*'\n",
    "          +' ../jz-rnn-tensorflow/aws_weights/weights2')"
   ]
  },
  {
   "cell_type": "code",
   "execution_count": 381,
   "metadata": {
    "collapsed": false
   },
   "outputs": [
    {
     "name": "stdout",
     "output_type": "stream",
     "text": [
      "(61, 919)\n"
     ]
    }
   ],
   "source": [
    "# Load the F1 matrix from the validation errors file\n",
    "# f = open('../jz-rnn-tensorflow/aws_weights/weights1/validation_errors')\n",
    "f = open('../jz-rnn-tensorflow/aws_weights/validation_errors')\n",
    "\n",
    "F1 = []\n",
    "train_loss = []\n",
    "valid_loss = []\n",
    "for line in f:\n",
    "    z = line.split('\\t')\n",
    "    F1.append([float(i) for i in z[3].translate(None,'[').translate(None,']').translate(None,'\\n').split(',')])\n",
    "    train_loss.append(float(z[0]))\n",
    "    valid_loss.append(float(z[1]))\n",
    "F1 = np.array(F1)\n",
    "train_loss = np.array(train_loss)\n",
    "valid_loss = np.array(valid_loss)\n",
    "print np.shape(F1)"
   ]
  },
  {
   "cell_type": "code",
   "execution_count": 384,
   "metadata": {
    "collapsed": false
   },
   "outputs": [
    {
     "name": "stdout",
     "output_type": "stream",
     "text": [
      "Epoch\tDeep RNN F1\tLog Reg F1\tnumber of positive training examples\n",
      "================================================================================\n",
      "The RNN beats the logistic regression model on 65.6% of the 421 tasks \n",
      "    with at least 10% positive training examples\n",
      "On average, the RNN F1 score is 0.086 times greater.\n"
     ]
    }
   ],
   "source": [
    "# Print out the max F1 for each of logistic regressions best-performing tasks\n",
    "n = 919#179\n",
    "test = []\n",
    "save_tasks = []\n",
    "print 'Epoch\\tDeep RNN F1\\tLog Reg F1\\tnumber of positive training examples'\n",
    "for j,(i,k) in enumerate([(np.max(F1[:,good_inds[i]]),np.argmax(F1[:,good_inds[i]])) \n",
    "                          for i in range(n)]): \n",
    "    if a[j][2]*80000 <= 800:\n",
    "#         print '%d\\t%3f\\t%3f\\t%d'%(k,i,a[j][0],a[j][2]*80000)\n",
    "        test.append([i,a[j][0]])\n",
    "        save_tasks.append(a[j][1])\n",
    "test = np.array(test)\n",
    "save_tasks = np.array(save_tasks)\n",
    "print '='*80\n",
    "print \"\"\"The RNN beats the logistic regression model on %.1f%% of the %d tasks \n",
    "    with at least 10%% positive training examples\"\"\"%(100*np.sum(test[:,0]>test[:,1])/float(len(test)),len(test))\n",
    "print 'On average, the RNN F1 score is %.3f times greater.'%(np.sum(test[:,0]-test[:,1])/len(test))"
   ]
  },
  {
   "cell_type": "code",
   "execution_count": 386,
   "metadata": {
    "collapsed": false
   },
   "outputs": [
    {
     "name": "stdout",
     "output_type": "stream",
     "text": [
      "0\t0.026\t-0.008\n",
      "1\t0.318\t0.018\n",
      "2\t0.342\t0.024\n",
      "3\t0.029\t-0.007\n",
      "4\t0.026\t-0.008\n",
      "5\t0.055\t-0.001\n",
      "6\t0.040\t-0.005\n",
      "7\t0.029\t-0.007\n",
      "8\t0.033\t-0.006\n",
      "9\t0.048\t-0.004\n",
      "10\t0.036\t-0.006\n",
      "11\t0.033\t-0.006\n",
      "12\t0.036\t-0.006\n",
      "13\t0.040\t-0.006\n",
      "14\t0.045\t-0.005\n",
      "15\t0.040\t-0.005\n",
      "16\t0.050\t-0.002\n",
      "17\t0.033\t-0.007\n",
      "18\t0.062\t-0.002\n",
      "19\t0.088\t0.005\n",
      "20\t0.038\t-0.005\n",
      "21\t0.048\t-0.004\n",
      "22\t0.083\t0.005\n",
      "23\t0.048\t-0.004\n",
      "24\t0.064\t0.001\n",
      "25\t0.083\t0.007\n",
      "26\t0.052\t-0.003\n",
      "27\t0.074\t0.002\n",
      "28\t0.100\t0.008\n",
      "29\t0.074\t0.001\n",
      "30\t0.052\t-0.001\n",
      "31\t0.062\t-0.000\n",
      "32\t0.048\t-0.003\n",
      "33\t0.071\t-0.001\n",
      "34\t0.093\t0.002\n",
      "35\t0.083\t0.002\n",
      "36\t0.069\t-0.003\n",
      "37\t0.126\t0.006\n",
      "38\t0.081\t0.001\n",
      "39\t0.071\t-0.002\n",
      "40\t0.067\t-0.001\n",
      "41\t0.107\t0.002\n",
      "42\t0.093\t0.001\n",
      "43\t0.432\t0.048\n"
     ]
    }
   ],
   "source": [
    "# Compare the performance of the RNN at the most recent epoch to that of the LR model \n",
    "for ii in range(len(F1)):\n",
    "    test2 = []\n",
    "    for j,i in enumerate([F1[ii,good_inds[i]] for i in range(n)]):\n",
    "        if a[j][2]*80000 <= 800:\n",
    "            test2.append([i,a[j][0]])\n",
    "    test2 = np.array(test2)\n",
    "\n",
    "    print '%d\\t%.3f\\t%.3f'%(ii,np.sum(test2[:,0]>test[:,1])/float(len(test2)),\n",
    "                            (np.sum(test2[:,0]-test2[:,1])/len(test2)))\n",
    "    \n",
    "    if ii > 42: break"
   ]
  },
  {
   "cell_type": "code",
   "execution_count": 316,
   "metadata": {
    "collapsed": false
   },
   "outputs": [
    {
     "data": {
      "image/png": "[encoded data removed]",
      "text/plain": [
       "<matplotlib.figure.Figure at 0x7fae34528e10>"
      ]
     },
     "metadata": {},
     "output_type": "display_data"
    }
   ],
   "source": [
    "# Plot training and validation losses for num_steps = 100\n",
    "plt.figure(figsize=(6,4))\n",
    "plt.plot(train_loss,label='Training')\n",
    "plt.plot(valid_loss,'r',label='Validation')\n",
    "plt.xlabel('Epoch')\n",
    "plt.ylabel('Perplexity')\n",
    "plt.legend()\n",
    "plt.savefig('/data/deep_learning/project_deliverables/loss_100.png', format='png', dpi=900)"
   ]
  },
  {
   "cell_type": "code",
   "execution_count": 335,
   "metadata": {
    "collapsed": false
   },
   "outputs": [
    {
     "data": {
      "image/png": "[encoded data removed]",
      "text/plain": [
       "<matplotlib.figure.Figure at 0x7fae342bbe10>"
      ]
     },
     "metadata": {},
     "output_type": "display_data"
    }
   ],
   "source": [
    "# Plot everything using a bar plot\n",
    "import colorsys\n",
    "def bars_curves_set(curves_set,labels,method_names):\n",
    "    N_sets = len(curves_set)\n",
    "    HSV_tuples = [(x*1.0/N_sets, 0.6, 0.7) for x in range(N_sets)]\n",
    "    RGB_tuples = map(lambda x: colorsys.hsv_to_rgb(*x), HSV_tuples)\n",
    "    N = len(curves_set[0])\n",
    "    ind = np.arange(N)\n",
    "    width = 0.35       \n",
    "    fig, ax = plt.subplots(figsize=(20,8))\n",
    "    plt.grid(which='minor',zorder=0)\n",
    "    plt.grid(which='major',zorder=0)\n",
    "    for i in range(N_sets):\n",
    "        rects = ax.bar(ind-0.2+i*0.2,curves_set[i],width,color=RGB_tuples[i], \n",
    "                    ecolor='k',align='center',label=labels[i],zorder=3)\n",
    "    ax.set_ylabel('F1 score',size=15)\n",
    "    xticks_pos = [0.65*patch.get_width() + patch.get_xy()[0] -0.2 for patch in rects]\n",
    "    plt.xticks(xticks_pos, method_names, ha='right', rotation=90)\n",
    "    plt.yticks(np.arange(0,1.1*max([max(i) for i in curves_set]),0.05))\n",
    "    plt.xlim([np.min(xticks_pos)-0.5,np.max(xticks_pos)+0.5])\n",
    "    plt.xlabel('Tasks sorted by logistic regression performance',size=15)\n",
    "    plt.legend(fontsize=15)\n",
    "    plt.savefig('/data/deep_learning/project_deliverables/F1_scores.png', format='png', dpi=200)\n",
    "\n",
    "k = 20\n",
    "curve_set = [test[:k,0],test2[:k,0],test[:k,1]]\n",
    "bars_curves_set(curve_set,\n",
    "            labels = ['RNN (max over all epochs)','RNN (best epoch)','Logistic Regression'],\n",
    "            method_names = np.array([str(i) for i in save_tasks[:k]]))"
   ]
  },
  {
   "cell_type": "code",
   "execution_count": 340,
   "metadata": {
    "collapsed": false
   },
   "outputs": [
    {
     "data": {
      "text/plain": [
       "(array([314, 315, 316, 317, 318, 319, 320, 321, 322, 323, 324, 325, 326,\n",
       "        327, 328, 329, 330, 331, 332, 333, 334, 335, 336, 337, 338, 339,\n",
       "        340, 341, 342, 343, 344, 345, 346, 347, 348, 349, 350, 351, 352,\n",
       "        353, 354, 355, 356, 357, 358, 359, 360, 361, 362, 363, 364, 365,\n",
       "        366, 367, 368, 369, 370, 371, 372, 373, 374, 375, 376, 377, 378,\n",
       "        379, 380, 381, 382, 383, 384, 385, 386, 387, 388, 389, 390, 391,\n",
       "        392, 393, 394, 395, 396, 397, 398, 399, 400, 401, 402, 403, 404,\n",
       "        405, 406, 407, 408, 409, 410, 411, 412, 413, 414, 415, 416, 417,\n",
       "        418, 419, 420, 421, 422, 423, 424, 425, 426, 427, 428, 429, 430,\n",
       "        431, 432, 433, 434, 435, 436, 437, 438, 439, 440, 441, 442, 443,\n",
       "        444, 445, 446, 447, 448, 449, 450, 451, 452, 453, 454, 455, 456,\n",
       "        457, 458, 459, 460, 461, 462, 463, 464, 465, 466, 467, 468, 469,\n",
       "        470, 471, 472, 473, 474, 475, 476, 477, 478, 479, 480, 481, 482,\n",
       "        483, 484, 485, 486, 487, 488, 489, 490, 491, 492, 493, 494, 495,\n",
       "        496, 497]),)"
      ]
     },
     "execution_count": 340,
     "metadata": {},
     "output_type": "execute_result"
    }
   ],
   "source": [
    "np.where(test[:,1] == 0)"
   ]
  },
  {
   "cell_type": "code",
   "execution_count": 353,
   "metadata": {
    "collapsed": false
   },
   "outputs": [
    {
     "data": {
      "image/png": "[encoded data removed]",
      "text/plain": [
       "<matplotlib.figure.Figure at 0x7fae34696750>"
      ]
     },
     "metadata": {},
     "output_type": "display_data"
    }
   ],
   "source": [
    "# Sort indices where logistic regression fails\n",
    "iz = np.where(test[:,1] == 0)[0][0]\n",
    "ii = np.array([j[1] for j in sorted([(a,i) for i,a in enumerate(test2[iz:,0])],reverse=True)])\n",
    "\n",
    "iz_ind = range(iz,iz+len(ii))\n",
    "\n",
    "plt.figure(figsize=(8,4))\n",
    "plt.plot(test[:iz,0],label='RNN (max over all epochs)',c='r')\n",
    "temp1 = test[iz:,0]\n",
    "plt.plot(iz_ind,temp1[ii],c='r')\n",
    "plt.plot(test2[:iz,0],label='RNN (best epoch)',c='g')\n",
    "temp2 = test2[iz:,0]\n",
    "plt.plot(iz_ind,temp2[ii],c='g')\n",
    "plt.plot(test[:iz,1],label='Logistic Regression',c='b')\n",
    "temp3 = test2[iz:,1]\n",
    "plt.plot(iz_ind,temp3[ii],c='b')\n",
    "plt.xlabel('Tasks sorted by logistic regression performance')\n",
    "plt.ylabel('F1 score')\n",
    "plt.legend()\n",
    "plt.savefig('/data/deep_learning/project_deliverables/F1_scores_498.png', format='png', dpi=200)"
   ]
  },
  {
   "cell_type": "markdown",
   "metadata": {},
   "source": [
    "## Repeating above analysis for 200 num_steps"
   ]
  },
  {
   "cell_type": "code",
   "execution_count": 292,
   "metadata": {
    "collapsed": false
   },
   "outputs": [
    {
     "data": {
      "text/plain": [
       "<matplotlib.text.Text at 0x7fae34423c10>"
      ]
     },
     "execution_count": 292,
     "metadata": {},
     "output_type": "execute_result"
    },
    {
     "data": {
      "image/png": "[encoded data removed]",
      "text/plain": [
       "<matplotlib.figure.Figure at 0x7fae34594610>"
      ]
     },
     "metadata": {},
     "output_type": "display_data"
    }
   ],
   "source": [
    "X = logistic_regression_analysis_matrix('logistic_regression_200_results/')\n",
    "a, good_inds = get_best_tasks(X)\n",
    "\n",
    "# Plot of F1 scores in sorted order\n",
    "plt.figure()\n",
    "plt.plot(np.sort(X[:,4]))\n",
    "plt.title('F1 scores on testing set (sorted)')"
   ]
  },
  {
   "cell_type": "code",
   "execution_count": 293,
   "metadata": {
    "collapsed": false
   },
   "outputs": [
    {
     "name": "stdout",
     "output_type": "stream",
     "text": [
      "(26, 919)\n"
     ]
    }
   ],
   "source": [
    "# ip = '54.67.103.213'\n",
    "# os.system('scp -i ../cs224d_200.pem ubuntu@'+key\n",
    "#           +':deep_learning_genomics_nlp/jz-rnn-tensorflow/weights/validation_errors'\n",
    "#           +' ../jz-rnn-tensorflow/aws_weights_200/')\n",
    "\n",
    "f = open('../validation_errors')\n",
    "\n",
    "F1 = []\n",
    "train_loss = []\n",
    "valid_loss = []\n",
    "for line in f:\n",
    "    z = line.split('\\t')\n",
    "    F1.append([float(i) for i in z[3].translate(None,'[').translate(None,']').translate(None,'\\n').split(',')])\n",
    "    train_loss.append(float(z[0]))\n",
    "    valid_loss.append(float(z[1]))\n",
    "F1 = np.array(F1)\n",
    "train_loss = np.array(train_loss)\n",
    "valid_loss = np.array(valid_loss)\n",
    "print np.shape(F1)"
   ]
  },
  {
   "cell_type": "code",
   "execution_count": 297,
   "metadata": {
    "collapsed": false,
    "scrolled": false
   },
   "outputs": [
    {
     "name": "stdout",
     "output_type": "stream",
     "text": [
      "0\t0.000000\t1.000000 23.0\n",
      "21\t0.616601\t0.587000 5410.0\n",
      "18\t0.431138\t0.414000 4354.0\n",
      "18\t0.426117\t0.402000 7545.0\n",
      "18\t0.403433\t0.399000 6527.0\n",
      "21\t0.454082\t0.399000 9322.0\n",
      "8\t0.412698\t0.380000 1373.0\n",
      "21\t0.447458\t0.371000 7140.0\n",
      "23\t0.387324\t0.358000 7501.0\n",
      "21\t0.412698\t0.353000 9684.0\n",
      "23\t0.355828\t0.349000 3851.0\n",
      "0\t0.000000\t0.333000 22.0\n",
      "9\t0.356164\t0.326000 1658.0\n",
      "19\t0.342857\t0.323000 3535.0\n",
      "21\t0.330579\t0.320000 5876.0\n",
      "21\t0.372093\t0.315000 8599.0\n",
      "2\t0.095238\t0.315000 517.0\n",
      "0\t0.000000\t0.308000 62.0\n",
      "21\t0.334677\t0.302000 13762.0\n",
      "21\t0.336770\t0.290000 7230.0\n",
      "10\t0.388060\t0.287000 1569.0\n",
      "0\t0.000000\t0.286000 53.0\n",
      "20\t0.363636\t0.282000 439.0\n",
      "13\t0.383838\t0.281000 2219.0\n",
      "3\t0.334601\t0.280000 5529.0\n",
      "13\t0.260870\t0.277000 1305.0\n",
      "25\t0.181818\t0.267000 1020.0\n",
      "20\t0.393305\t0.266000 5933.0\n",
      "16\t0.216216\t0.266000 1124.0\n",
      "22\t0.285714\t0.263000 743.0\n",
      "0\t0.400000\t0.254000 253.0\n",
      "5\t0.267658\t0.253000 7283.0\n",
      "21\t0.133333\t0.253000 408.0\n",
      "21\t0.285047\t0.252000 12573.0\n",
      "5\t0.260870\t0.252000 939.0\n",
      "1\t0.044444\t0.250000 41.0\n",
      "21\t0.328638\t0.247000 5530.0\n",
      "13\t0.269231\t0.244000 8530.0\n",
      "3\t0.210526\t0.242000 1521.0\n",
      "0\t0.250000\t0.241000 909.0\n",
      "23\t0.291667\t0.240000 4125.0\n",
      "0\t0.000000\t0.240000 127.0\n",
      "0\t0.000000\t0.238000 118.0\n",
      "21\t0.212766\t0.229000 1077.0\n",
      "21\t0.280443\t0.227000 7275.0\n",
      "21\t0.230769\t0.226000 1568.0\n",
      "21\t0.285714\t0.224000 748.0\n",
      "2\t0.228571\t0.224000 764.0\n",
      "21\t0.294840\t0.213000 12118.0\n",
      "2\t0.226804\t0.213000 5114.0\n",
      "0\t0.000000\t0.211000 196.0\n",
      "3\t0.292135\t0.207000 3792.0\n",
      "2\t0.142857\t0.206000 1368.0\n",
      "0\t0.235294\t0.201000 1141.0\n",
      "0\t0.000000\t0.200000 120.0\n",
      "0\t0.000000\t0.200000 67.0\n",
      "16\t0.189781\t0.197000 4096.0\n",
      "3\t0.222222\t0.197000 1870.0\n",
      "10\t0.142857\t0.195000 907.0\n",
      "7\t0.105263\t0.195000 656.0\n",
      "0\t0.000000\t0.194000 88.0\n",
      "0\t0.322581\t0.194000 895.0\n",
      "21\t0.251121\t0.192000 5731.0\n",
      "14\t0.275862\t0.192000 1084.0\n",
      "23\t0.255892\t0.191000 8429.0\n",
      "1\t0.148148\t0.191000 1703.0\n",
      "0\t0.000000\t0.190000 78.0\n",
      "4\t0.256881\t0.189000 8411.0\n",
      "0\t0.333333\t0.189000 278.0\n",
      "18\t0.250000\t0.186000 1204.0\n",
      "2\t0.281690\t0.184000 1393.0\n",
      "5\t0.268293\t0.183000 1719.0\n",
      "25\t0.500000\t0.182000 504.0\n",
      "14\t0.222222\t0.182000 368.0\n",
      "3\t0.113208\t0.180000 717.0\n",
      "0\t0.121212\t0.176000 863.0\n",
      "25\t0.111111\t0.175000 793.0\n",
      "3\t0.176471\t0.175000 1104.0\n",
      "2\t0.080000\t0.175000 532.0\n",
      "0\t0.222222\t0.174000 577.0\n",
      "3\t0.190840\t0.173000 6859.0\n",
      "1\t0.133333\t0.172000 579.0\n",
      "11\t0.200000\t0.169000 228.0\n",
      "21\t0.200000\t0.168000 703.0\n",
      "21\t0.210526\t0.167000 643.0\n",
      "0\t0.250000\t0.167000 870.0\n",
      "6\t0.285714\t0.167000 556.0\n",
      "0\t0.000000\t0.163000 286.0\n",
      "3\t0.276190\t0.162000 5842.0\n",
      "0\t0.260870\t0.162000 678.0\n",
      "21\t0.370370\t0.162000 696.0\n",
      "3\t0.289474\t0.162000 1156.0\n",
      "0\t0.000000\t0.162000 539.0\n",
      "0\t0.000000\t0.160000 304.0\n",
      "0\t0.000000\t0.160000 188.0\n",
      "3\t0.218750\t0.160000 1171.0\n",
      "0\t0.000000\t0.160000 72.0\n",
      "0\t0.166667\t0.160000 316.0\n",
      "14\t0.160000\t0.159000 1104.0\n",
      "0\t0.000000\t0.157000 226.0\n",
      "0\t0.148148\t0.155000 684.0\n",
      "0\t0.200000\t0.154000 872.0\n",
      "0\t0.000000\t0.154000 327.0\n",
      "1\t0.031746\t0.153000 868.0\n",
      "13\t0.250000\t0.153000 976.0\n",
      "0\t0.142857\t0.152000 830.0\n",
      "17\t0.214286\t0.152000 1010.0\n",
      "2\t0.142857\t0.151000 815.0\n",
      "0\t0.235294\t0.150000 840.0\n",
      "0\t0.181818\t0.150000 654.0\n",
      "0\t0.000000\t0.148000 105.0\n",
      "0\t0.190476\t0.148000 1082.0\n",
      "0\t0.000000\t0.148000 241.0\n",
      "3\t0.111111\t0.148000 1456.0\n",
      "7\t0.166667\t0.147000 645.0\n",
      "0\t0.666667\t0.145000 150.0\n",
      "14\t0.285714\t0.145000 258.0\n",
      "3\t0.186047\t0.145000 489.0\n",
      "1\t0.129032\t0.144000 998.0\n",
      "3\t0.259259\t0.144000 3240.0\n",
      "10\t0.153846\t0.143000 517.0\n",
      "0\t0.000000\t0.143000 153.0\n",
      "0\t0.142857\t0.143000 748.0\n",
      "4\t0.024691\t0.143000 384.0\n",
      "3\t0.172185\t0.140000 3763.0\n",
      "0\t0.142857\t0.140000 394.0\n",
      "22\t0.190476\t0.139000 1780.0\n",
      "2\t0.086957\t0.139000 447.0\n",
      "0\t0.285714\t0.138000 580.0\n",
      "0\t0.105263\t0.138000 853.0\n",
      "3\t0.054054\t0.138000 197.0\n",
      "0\t0.000000\t0.136000 258.0\n",
      "0\t0.210526\t0.135000 738.0\n",
      "3\t0.080000\t0.135000 784.0\n",
      "18\t0.169492\t0.134000 1585.0\n",
      "0\t0.181818\t0.133000 758.0\n",
      "0\t0.000000\t0.133000 192.0\n",
      "21\t0.162162\t0.133000 3487.0\n",
      "0\t0.000000\t0.130000 256.0\n",
      "22\t0.206897\t0.130000 1030.0\n",
      "0\t0.333333\t0.129000 397.0\n",
      "3\t0.140000\t0.127000 5396.0\n",
      "2\t0.090909\t0.127000 325.0\n",
      "0\t0.137931\t0.127000 940.0\n",
      "0\t0.062500\t0.127000 1129.0\n",
      "1\t0.196078\t0.126000 732.0\n",
      "0\t0.125000\t0.126000 1383.0\n",
      "1\t0.041667\t0.125000 172.0\n",
      "4\t0.025000\t0.125000 412.0\n",
      "0\t0.000000\t0.125000 197.0\n",
      "3\t0.050000\t0.125000 428.0\n",
      "18\t0.153846\t0.125000 760.0\n",
      "0\t0.000000\t0.125000 70.0\n",
      "1\t0.041667\t0.125000 275.0\n",
      "23\t0.226415\t0.124000 2629.0\n",
      "0\t0.117647\t0.124000 806.0\n",
      "25\t0.135593\t0.123000 2046.0\n",
      "3\t0.205128\t0.122000 7599.0\n",
      "0\t0.400000\t0.120000 302.0\n",
      "5\t0.285714\t0.120000 828.0\n",
      "13\t0.142857\t0.120000 795.0\n",
      "14\t0.272727\t0.120000 856.0\n",
      "0\t0.000000\t0.118000 335.0\n",
      "0\t0.000000\t0.118000 302.0\n",
      "0\t0.000000\t0.118000 59.0\n",
      "7\t0.181818\t0.115000 890.0\n",
      "13\t0.133333\t0.115000 753.0\n",
      "4\t0.224719\t0.115000 2962.0\n",
      "3\t0.300000\t0.114000 798.0\n",
      "0\t0.222222\t0.114000 495.0\n",
      "2\t0.100000\t0.114000 428.0\n",
      "3\t0.123077\t0.113000 1159.0\n",
      "3\t0.228571\t0.113000 1926.0\n",
      "1\t0.111111\t0.112000 1266.0\n",
      "0\t0.000000\t0.111000 118.0\n",
      "0\t0.000000\t0.111000 316.0\n",
      "1\t0.033333\t0.111000 746.0\n",
      "3\t0.177778\t0.110000 578.0\n",
      "1\t0.083333\t0.110000 2335.0\n",
      "0\t0.000000\t0.109000 199.0\n",
      "6\t0.285714\t0.109000 690.0\n",
      "7\t0.166667\t0.108000 445.0\n",
      "3\t0.093023\t0.107000 283.0\n",
      "1\t0.129032\t0.107000 954.0\n",
      "3\t0.149254\t0.107000 1190.0\n",
      "13\t0.117647\t0.107000 1070.0\n",
      "0\t0.285714\t0.107000 505.0\n",
      "0\t0.090909\t0.106000 738.0\n",
      "1\t0.183908\t0.106000 1938.0\n",
      "1\t0.034483\t0.106000 748.0\n",
      "0\t0.000000\t0.105000 125.0\n",
      "3\t0.107143\t0.104000 857.0\n",
      "21\t0.233766\t0.104000 2445.0\n",
      "0\t0.000000\t0.103000 639.0\n",
      "0\t0.000000\t0.102000 866.0\n",
      "0\t0.095238\t0.102000 820.0\n",
      "4\t0.107143\t0.102000 5255.0\n",
      "2\t0.150943\t0.101000 1428.0\n",
      "0\t0.181818\t0.101000 717.0\n",
      "8\t0.148148\t0.100000 944.0\n",
      "================================================================================\n",
      "The RNN beats the logistic regression model on 77.7% of the 103 tasks \n",
      "    with at least 10% positive training examples\n",
      "On average, the RNN F1 score is 1.207 times greater.\n"
     ]
    }
   ],
   "source": [
    "# Print out the max F1 for each of logistic regressions best-performing tasks\n",
    "n = 200\n",
    "test = []\n",
    "for j,(i,k) in enumerate([(np.max(F1[:,good_inds[i]]),np.argmax(F1[:,good_inds[i]])) \n",
    "                          for i in range(n)]): \n",
    "    print '%d\\t%3f\\t%3f'%(k,i,a[j][0]), a[j][2]*80000\n",
    "    if a[j][2]*80000 > 800:\n",
    "        test.append([i,a[j][0]])\n",
    "test = np.array(test)\n",
    "print '='*80\n",
    "print \"\"\"The RNN beats the logistic regression model on %.1f%% of the %d tasks \n",
    "    with at least 10%% positive training examples\"\"\"%(100*np.sum(test[:,0]>test[:,1])/float(len(test)),len(test))\n",
    "print 'On average, the RNN F1 score is %.3f times greater.'%(np.sum(test[:,0]/test[:,1])/len(test))"
   ]
  },
  {
   "cell_type": "code",
   "execution_count": 144,
   "metadata": {
    "collapsed": true
   },
   "outputs": [
    {
     "name": "stdout",
     "output_type": "stream",
     "text": [
      "Line 0\n",
      "0.000000\t1.000000\n",
      "0.411483\t0.587000\n",
      "0.211268\t0.414000\n",
      "0.289963\t0.402000\n",
      "0.257143\t0.399000\n",
      "0.221498\t0.399000\n",
      "0.290909\t0.380000\n",
      "0.252033\t0.371000\n",
      "0.203390\t0.358000\n",
      "0.258675\t0.353000\n",
      "--------------------------------------------------------------------------------\n",
      "Line 1\n",
      "0.000000\t1.000000\n",
      "0.442396\t0.587000\n",
      "0.229885\t0.414000\n",
      "0.262774\t0.402000\n",
      "0.218341\t0.399000\n",
      "0.278261\t0.399000\n",
      "0.282609\t0.380000\n",
      "0.262172\t0.371000\n",
      "0.212121\t0.358000\n",
      "0.259259\t0.353000\n",
      "--------------------------------------------------------------------------------\n",
      "Line 2\n",
      "0.000000\t1.000000\n",
      "0.472103\t0.587000\n",
      "0.350282\t0.414000\n",
      "0.330986\t0.402000\n",
      "0.310345\t0.399000\n",
      "0.329609\t0.399000\n",
      "0.318841\t0.380000\n",
      "0.312727\t0.371000\n",
      "0.299625\t0.358000\n",
      "0.331429\t0.353000\n",
      "--------------------------------------------------------------------------------\n",
      "Line 3\n",
      "0.000000\t1.000000\n",
      "0.458150\t0.587000\n",
      "0.365591\t0.414000\n",
      "0.348684\t0.402000\n",
      "0.309623\t0.399000\n",
      "0.318182\t0.399000\n",
      "0.326531\t0.380000\n",
      "0.329749\t0.371000\n",
      "0.315018\t0.358000\n",
      "0.300885\t0.353000\n",
      "--------------------------------------------------------------------------------\n",
      "Line 4\n",
      "0.000000\t1.000000\n",
      "0.417391\t0.587000\n",
      "0.380435\t0.414000\n",
      "0.280303\t0.402000\n",
      "0.333333\t0.399000\n",
      "0.333333\t0.399000\n",
      "0.257426\t0.380000\n",
      "0.292135\t0.371000\n",
      "0.306513\t0.358000\n",
      "0.313953\t0.353000\n",
      "--------------------------------------------------------------------------------\n",
      "Line 5\n",
      "0.000000\t1.000000\n",
      "0.511111\t0.587000\n",
      "0.410526\t0.414000\n",
      "0.344828\t0.402000\n",
      "0.355731\t0.399000\n",
      "0.336088\t0.399000\n",
      "0.300000\t0.380000\n",
      "0.356436\t0.371000\n",
      "0.360424\t0.358000\n",
      "0.345404\t0.353000\n",
      "--------------------------------------------------------------------------------\n",
      "Line 6\n",
      "0.000000\t1.000000\n",
      "0.373737\t0.587000\n",
      "0.251656\t0.414000\n",
      "0.178723\t0.402000\n",
      "0.254717\t0.399000\n",
      "0.197368\t0.399000\n",
      "0.230769\t0.380000\n",
      "0.206612\t0.371000\n",
      "0.215768\t0.358000\n",
      "0.234921\t0.353000\n",
      "--------------------------------------------------------------------------------\n",
      "Line 7\n",
      "0.000000\t1.000000\n",
      "0.421569\t0.587000\n",
      "0.253333\t0.414000\n",
      "0.180258\t0.402000\n",
      "0.190955\t0.399000\n",
      "0.225166\t0.399000\n",
      "0.244898\t0.380000\n",
      "0.170940\t0.371000\n",
      "0.182609\t0.358000\n",
      "0.242038\t0.353000\n",
      "--------------------------------------------------------------------------------\n",
      "Line 8\n",
      "0.000000\t1.000000\n",
      "0.533898\t0.587000\n",
      "0.395480\t0.414000\n",
      "0.356643\t0.402000\n",
      "0.338983\t0.399000\n",
      "0.362606\t0.399000\n",
      "0.412698\t0.380000\n",
      "0.329749\t0.371000\n",
      "0.350365\t0.358000\n",
      "0.309038\t0.353000\n",
      "--------------------------------------------------------------------------------\n",
      "Line 9\n",
      "0.000000\t1.000000\n",
      "0.520000\t0.587000\n",
      "0.406593\t0.414000\n",
      "0.317690\t0.402000\n",
      "0.342857\t0.399000\n",
      "0.321839\t0.399000\n",
      "0.260870\t0.380000\n",
      "0.341637\t0.371000\n",
      "0.357143\t0.358000\n",
      "0.338028\t0.353000\n",
      "--------------------------------------------------------------------------------\n",
      "Line 10\n",
      "0.000000\t1.000000\n",
      "0.550000\t0.587000\n",
      "0.355828\t0.414000\n",
      "0.376712\t0.402000\n",
      "0.347826\t0.399000\n",
      "0.354651\t0.399000\n",
      "0.204082\t0.380000\n",
      "0.362319\t0.371000\n",
      "0.358974\t0.358000\n",
      "0.342029\t0.353000\n",
      "--------------------------------------------------------------------------------\n",
      "Line 11\n",
      "0.000000\t1.000000\n",
      "0.561404\t0.587000\n",
      "0.275862\t0.414000\n",
      "0.242678\t0.402000\n",
      "0.278846\t0.399000\n",
      "0.340426\t0.399000\n",
      "0.055556\t0.380000\n",
      "0.243902\t0.371000\n",
      "0.273092\t0.358000\n",
      "0.330330\t0.353000\n",
      "--------------------------------------------------------------------------------\n"
     ]
    }
   ],
   "source": [
    "# Compare the performance of the RNN at each epoch to that of the LR model \n",
    "for j in range(len(F1)):\n",
    "    print 'Line '+str(j)\n",
    "    for i in range(10):\n",
    "        print '%3f\\t%3f'%(F1[j,good_inds[i]],a[i][0])\n",
    "    print '-'*80"
   ]
  },
  {
   "cell_type": "code",
   "execution_count": 298,
   "metadata": {
    "collapsed": false
   },
   "outputs": [
    {
     "data": {
      "image/png": "[encoded data removed]",
      "text/plain": [
       "<matplotlib.figure.Figure at 0x7fae346ad310>"
      ]
     },
     "metadata": {},
     "output_type": "display_data"
    }
   ],
   "source": [
    "# Plot training and validation losses for num_steps = 100\n",
    "plt.figure(figsize=(10,6))\n",
    "plt.plot(train_loss[1:],label='Training')\n",
    "plt.plot(valid_loss[1:],'r',label='Validation')\n",
    "plt.xlabel('Epoch')\n",
    "plt.ylabel('Perplexity')\n",
    "plt.legend()\n",
    "plt.savefig('/data/deep_learning/project_deliverables/loss_200.eps', format='eps', dpi=900)"
   ]
  }
 ],
 "metadata": {
  "kernelspec": {
   "display_name": "Python 2",
   "language": "python",
   "name": "python2"
  },
  "language_info": {
   "codemirror_mode": {
    "name": "ipython",
    "version": 2
   },
   "file_extension": ".py",
   "mimetype": "text/x-python",
   "name": "python",
   "nbconvert_exporter": "python",
   "pygments_lexer": "ipython2",
   "version": "2.7.6"
  }
 },
 "nbformat": 4,
 "nbformat_minor": 0
}
